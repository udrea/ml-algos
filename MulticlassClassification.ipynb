{
 "cells": [
  {
   "cell_type": "markdown",
   "metadata": {},
   "source": [
    "# Multi-class Classification"
   ]
  },
  {
   "cell_type": "code",
   "execution_count": 1,
   "metadata": {},
   "outputs": [],
   "source": [
    "import os\n",
    "\n",
    "import pandas as pd\n",
    "import numpy as np\n",
    "\n",
    "import scipy.io\n",
    "import scipy.optimize as opt\n",
    "\n",
    "import matplotlib.pyplot as plt\n",
    "import seaborn as sns\n",
    "sns.set(context='notebook', style='darkgrid')\n",
    "%matplotlib inline"
   ]
  },
  {
   "cell_type": "code",
   "execution_count": 2,
   "metadata": {},
   "outputs": [],
   "source": [
    "# Each pixel is represented by a floating point number indicating the grayscale intensity at that location.\n",
    "# The 20 by 20 grid of pixels is “unrolled” into a 400-dimensional vector.\n",
    "\n",
    "PATH_TO_DATA = ''.join([os.getcwd(), '/data/ex3data1'])\n",
    "data = scipy.io.loadmat(PATH_TO_DATA) # returns a dictionary"
   ]
  },
  {
   "cell_type": "code",
   "execution_count": 3,
   "metadata": {},
   "outputs": [],
   "source": [
    "X = data['X']\n",
    "y = data['y']\n",
    "y = y.ravel()"
   ]
  },
  {
   "cell_type": "markdown",
   "metadata": {},
   "source": [
    "## Visualisation of data"
   ]
  },
  {
   "cell_type": "code",
   "execution_count": 4,
   "metadata": {},
   "outputs": [
    {
     "data": {
      "text/plain": [
       "array([1259, 3296, 4839, 1044,  434, 2103,  596,  287, 4679, 3498])"
      ]
     },
     "execution_count": 4,
     "metadata": {},
     "output_type": "execute_result"
    }
   ],
   "source": [
    "sample = np.random.choice(X.shape[0], 10)\n",
    "sample"
   ]
  },
  {
   "cell_type": "code",
   "execution_count": 5,
   "metadata": {},
   "outputs": [
    {
     "data": {
      "image/png": "[encoded data removed]",
      "text/plain": [
       "<matplotlib.figure.Figure at 0x10a2d87f0>"
      ]
     },
     "metadata": {},
     "output_type": "display_data"
    }
   ],
   "source": [
    "plt.matshow(X[sample].reshape(-1, 20).T)\n",
    "plt.axis('off');"
   ]
  },
  {
   "cell_type": "code",
   "execution_count": 6,
   "metadata": {},
   "outputs": [],
   "source": [
    "def sigmoid(z):\n",
    "    return(1 / (1 + np.exp(-z)))"
   ]
  },
  {
   "cell_type": "code",
   "execution_count": 7,
   "metadata": {},
   "outputs": [],
   "source": [
    "def compute_cost_regularised(theta, X, y, reg_lambda):\n",
    "    predictions = sigmoid(np.dot(X, theta))\n",
    "    errors = (-y * np.log(predictions)) - ((1 - y) * np.log(1 - predictions))\n",
    "    reg_term = reg_lambda / (2 * m) * np.sum(np.power(theta[1:n], 2)) # theta_0 (bias) is intentionally excluded\n",
    "    J = 1 / m * np.sum(errors) + reg_term\n",
    "    return(J)"
   ]
  },
  {
   "cell_type": "code",
   "execution_count": 8,
   "metadata": {},
   "outputs": [],
   "source": [
    "def compute_gradient_regularised(theta, X, y, reg_lambda):\n",
    "    grad = np.zeros(n)\n",
    "    predictions = sigmoid(np.dot(X, theta))\n",
    "    errors = predictions - y\n",
    "    grad = 1 / m * np.dot(X.T, errors) + ((reg_lambda / m) * theta)\n",
    "    grad[0] = 1 / m * np.sum(errors * X[:,0]) # don't regularise the bias\n",
    "    return(grad)"
   ]
  },
  {
   "cell_type": "code",
   "execution_count": 9,
   "metadata": {},
   "outputs": [],
   "source": [
    "def predict(theta, X):\n",
    "    threshold = 0.5\n",
    "    probabilities = sigmoid(np.dot(X, theta.T))\n",
    "    return([1 if probability >= threshold else 0 for probability in probabilities])"
   ]
  },
  {
   "cell_type": "code",
   "execution_count": 10,
   "metadata": {},
   "outputs": [],
   "source": [
    "# Number of training examples\n",
    "m = X.shape[0]\n",
    "\n",
    "# Number of features\n",
    "n = X.shape[1]"
   ]
  },
  {
   "cell_type": "code",
   "execution_count": 11,
   "metadata": {},
   "outputs": [
    {
     "name": "stdout",
     "output_type": "stream",
     "text": [
      "theta_initial shape: (400,)\n"
     ]
    }
   ],
   "source": [
    "# Initialise fitting parameters (weights)\n",
    "theta_initial = np.zeros(n)\n",
    "\n",
    "print('theta_initial shape: {}'.format(theta_initial.shape))"
   ]
  },
  {
   "cell_type": "markdown",
   "metadata": {},
   "source": [
    "## One vs. All"
   ]
  },
  {
   "cell_type": "code",
   "execution_count": 12,
   "metadata": {},
   "outputs": [],
   "source": [
    "def one_vs_all(X, y, num_labels, reg_lambda):\n",
    "    all_theta = np.zeros((num_labels, n + 1))\n",
    "    X = np.insert(X, 0, values=np.ones(m), axis=1) # Intercept term\n",
    "    \n",
    "    for i in range(1, num_labels + 1): # label 0 is 10\n",
    "        theta = np.zeros(n + 1)\n",
    "        y_i = np.array([1 if label == i else 0 for label in y])\n",
    "        \n",
    "        result = opt.minimize(fun=compute_cost_regularised,\n",
    "                              x0=theta,\n",
    "                              args=(X, y_i, reg_lambda),\n",
    "                              method='TNC',\n",
    "                              jac=compute_gradient_regularised,\n",
    "                              options={'maxiter':50})\n",
    "        all_theta[i - 1] = result.x\n",
    "        \n",
    "    return(all_theta)"
   ]
  },
  {
   "cell_type": "code",
   "execution_count": 13,
   "metadata": {},
   "outputs": [
    {
     "data": {
      "text/plain": [
       "array([[-3.60636682e+00,  0.00000000e+00,  0.00000000e+00, ...,\n",
       "         4.94688858e-03,  1.74437938e-07,  0.00000000e+00],\n",
       "       [-3.53260577e+00,  0.00000000e+00,  0.00000000e+00, ...,\n",
       "         6.40784478e-03, -7.41667088e-04,  0.00000000e+00],\n",
       "       [-5.30070558e+00,  0.00000000e+00,  0.00000000e+00, ...,\n",
       "        -5.56322711e-05, -1.54959515e-07,  0.00000000e+00],\n",
       "       ...,\n",
       "       [-9.01276759e+00,  0.00000000e+00,  0.00000000e+00, ...,\n",
       "        -1.43795025e-04,  1.13008389e-05,  0.00000000e+00],\n",
       "       [-5.51011937e+00,  0.00000000e+00,  0.00000000e+00, ...,\n",
       "        -2.96795947e-03,  2.27722871e-04,  0.00000000e+00],\n",
       "       [-7.77588211e+00,  0.00000000e+00,  0.00000000e+00, ...,\n",
       "         5.23188963e-04,  2.62640273e-05,  0.00000000e+00]])"
      ]
     },
     "execution_count": 13,
     "metadata": {},
     "output_type": "execute_result"
    }
   ],
   "source": [
    "all_theta = one_vs_all(X, y, 10, 0.1)\n",
    "all_theta"
   ]
  },
  {
   "cell_type": "code",
   "execution_count": 14,
   "metadata": {},
   "outputs": [
    {
     "name": "stdout",
     "output_type": "stream",
     "text": [
      "all_theta shape: (10, 401)\n"
     ]
    }
   ],
   "source": [
    "print(\"all_theta shape: {}\".format(all_theta.shape))"
   ]
  },
  {
   "cell_type": "code",
   "execution_count": 15,
   "metadata": {},
   "outputs": [],
   "source": [
    "# Add Intercept\n",
    "X = np.insert(X, 0, values=np.ones(m), axis=1)"
   ]
  },
  {
   "cell_type": "markdown",
   "metadata": {},
   "source": [
    "## Predict"
   ]
  },
  {
   "cell_type": "code",
   "execution_count": 16,
   "metadata": {},
   "outputs": [],
   "source": [
    "def predict_one_vs_all(all_theta, X):\n",
    "    probabilities = sigmoid(np.dot(X, all_theta.T))\n",
    "    y_predicted = np.argmax(probabilities, axis=1) + 1\n",
    "    return(y_predicted)"
   ]
  },
  {
   "cell_type": "code",
   "execution_count": 17,
   "metadata": {},
   "outputs": [
    {
     "data": {
      "text/plain": [
       "array([10, 10, 10, ...,  9,  9,  7])"
      ]
     },
     "execution_count": 17,
     "metadata": {},
     "output_type": "execute_result"
    }
   ],
   "source": [
    "y_pred = predict_one_vs_all(all_theta, X)\n",
    "y_pred"
   ]
  },
  {
   "cell_type": "code",
   "execution_count": 18,
   "metadata": {},
   "outputs": [
    {
     "name": "stdout",
     "output_type": "stream",
     "text": [
      "Training set accuracy: 95.1%\n"
     ]
    }
   ],
   "source": [
    "print('Training set accuracy: {}%'.format(np.mean(y_pred == y) * 100))"
   ]
  },
  {
   "cell_type": "markdown",
   "metadata": {},
   "source": [
    "# Neural Networks"
   ]
  },
  {
   "cell_type": "markdown",
   "metadata": {},
   "source": [
    "## Feedforward Propagation and Prediction"
   ]
  },
  {
   "cell_type": "code",
   "execution_count": 23,
   "metadata": {},
   "outputs": [],
   "source": [
    "np.set_printoptions(formatter={'float': '{: 0.5f}'.format})"
   ]
  },
  {
   "cell_type": "code",
   "execution_count": 19,
   "metadata": {},
   "outputs": [],
   "source": [
    "X = data['X']\n",
    "y = data['y']\n",
    "y = y.ravel()\n",
    "\n",
    "# Number of training examples\n",
    "m = X.shape[0]"
   ]
  },
  {
   "cell_type": "code",
   "execution_count": 20,
   "metadata": {},
   "outputs": [],
   "source": [
    "# Load some pre-initialized neural network parameters.\n",
    "PATH_TO_DATA = ''.join([os.getcwd(), '/data/ex3weights'])\n",
    "weights = scipy.io.loadmat(PATH_TO_DATA)"
   ]
  },
  {
   "cell_type": "code",
   "execution_count": 21,
   "metadata": {},
   "outputs": [],
   "source": [
    "Theta1 = weights['Theta1']\n",
    "Theta2 = weights['Theta2']"
   ]
  },
  {
   "cell_type": "code",
   "execution_count": 22,
   "metadata": {},
   "outputs": [
    {
     "name": "stdout",
     "output_type": "stream",
     "text": [
      "Theta1 shape: (25, 401)\n",
      "Theta2 shape: (10, 26)\n"
     ]
    }
   ],
   "source": [
    "print(\"Theta1 shape: {}\\nTheta2 shape: {}\".format(Theta1.shape, Theta2.shape))"
   ]
  },
  {
   "cell_type": "code",
   "execution_count": 24,
   "metadata": {},
   "outputs": [],
   "source": [
    "# Parameters\n",
    "input_layer_size = 400 # 20 by 20 input images of digits\n",
    "hidden_layer_size = 25 # 25 hidden units\n",
    "num_labels = 10        # num_labels = Theta2[0]"
   ]
  },
  {
   "cell_type": "code",
   "execution_count": 25,
   "metadata": {},
   "outputs": [],
   "source": [
    "def predict_nn(Theta1, Theta2, X):\n",
    "    # Input layer (401 units, including the extra bias unit which always outputs +1)\n",
    "    a1 = np.insert(X, 0, values=np.ones(m), axis=1) # a1 = X + intercept\n",
    "    \n",
    "    # Hidden layer (26 units, including the extra bias unit which always outputs +1)\n",
    "    z2 = np.dot(Theta1, a1.T)                       # (25, 401) x (401, 5000)\n",
    "    a2 = sigmoid(z2).T                              # (5000, 25)\n",
    "    a2 = np.insert(a2, 0, 1, axis=1)                # (5000, 26)\n",
    "    \n",
    "    # Output layer (10 units)\n",
    "    z3 = np.dot(a2, Theta2.T)                       # (5000, 26) x (26, 10)\n",
    "    a3 = sigmoid(z3)                                # (5000, 10)\n",
    "    \n",
    "    y_predicted = np.argmax(a3, axis=1) + 1         # pick highest probability from each row corresponding to predicted digit\n",
    "    return(y_predicted)"
   ]
  },
  {
   "cell_type": "code",
   "execution_count": 26,
   "metadata": {},
   "outputs": [
    {
     "data": {
      "text/plain": [
       "array([10, 10, 10, ...,  9,  9,  9])"
      ]
     },
     "execution_count": 26,
     "metadata": {},
     "output_type": "execute_result"
    }
   ],
   "source": [
    "y_pred_nn = predict_nn(Theta1, Theta2, X)\n",
    "y_pred_nn"
   ]
  },
  {
   "cell_type": "code",
   "execution_count": 27,
   "metadata": {},
   "outputs": [
    {
     "name": "stdout",
     "output_type": "stream",
     "text": [
      "Training set accuracy: 97.52%\n"
     ]
    }
   ],
   "source": [
    "print('Training set accuracy: {}%'.format(np.mean(y_pred_nn == y) * 100))"
   ]
  }
 ],
 "metadata": {
  "kernelspec": {
   "display_name": "Python 3",
   "language": "python",
   "name": "python3"
  },
  "language_info": {
   "codemirror_mode": {
    "name": "ipython",
    "version": 3
   },
   "file_extension": ".py",
   "mimetype": "text/x-python",
   "name": "python",
   "nbconvert_exporter": "python",
   "pygments_lexer": "ipython3",
   "version": "3.6.4"
  }
 },
 "nbformat": 4,
 "nbformat_minor": 2
}

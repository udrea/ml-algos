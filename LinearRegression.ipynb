{
 "cells": [
  {
   "cell_type": "markdown",
   "metadata": {},
   "source": [
    "# Linear Regression"
   ]
  },
  {
   "cell_type": "code",
   "execution_count": 1,
   "metadata": {},
   "outputs": [],
   "source": [
    "import numpy as np\n",
    "import pandas as pd\n",
    "import os\n",
    "\n",
    "%matplotlib inline\n",
    "import matplotlib.pyplot as plt"
   ]
  },
  {
   "cell_type": "markdown",
   "metadata": {},
   "source": [
    "## Univariate"
   ]
  },
  {
   "cell_type": "code",
   "execution_count": 2,
   "metadata": {},
   "outputs": [],
   "source": [
    "\"\"\"\n",
    "The file ex1data1.txt contains the dataset for our linear regression\n",
    "problem. The first column is the population of a city and the second\n",
    "column is the profit of a food truck in that city. A negative value\n",
    "for profit indicates a loss.\n",
    "\"\"\"\n",
    "PATH_TO_DATA = ''.join([os.getcwd(), '/data/ex1data1.txt'])\n",
    "df = pd.read_csv(PATH_TO_DATA, names=['Population', 'Profit'])"
   ]
  },
  {
   "cell_type": "code",
   "execution_count": 3,
   "metadata": {},
   "outputs": [],
   "source": [
    "X = df[['Population']]\n",
    "y = df[['Profit']]"
   ]
  },
  {
   "cell_type": "code",
   "execution_count": 4,
   "metadata": {},
   "outputs": [
    {
     "data": {
      "text/plain": [
       "Text(0,0.5,'Profit')"
      ]
     },
     "execution_count": 4,
     "metadata": {},
     "output_type": "execute_result"
    },
    {
     "data": {
      "image/png": "[encoded data removed]",
      "text/plain": [
       "<matplotlib.figure.Figure at 0x1102c2e48>"
      ]
     },
     "metadata": {},
     "output_type": "display_data"
    }
   ],
   "source": [
    "fig, ax = plt.subplots(figsize=(15, 8))\n",
    "ax.plot(X, y, 'o')\n",
    "ax.set_xlabel('Population')\n",
    "ax.set_ylabel('Profit')"
   ]
  },
  {
   "cell_type": "markdown",
   "metadata": {},
   "source": [
    "### Compute the cost function"
   ]
  },
  {
   "cell_type": "code",
   "execution_count": 5,
   "metadata": {},
   "outputs": [],
   "source": [
    "def compute_cost(X, y, theta):\n",
    "    predictions = np.dot(X, theta.T)\n",
    "    squared_error = np.power((y - predictions), 2)\n",
    "    J = 1 / (2 * m) * np.sum(squared_error)\n",
    "    return(J)"
   ]
  },
  {
   "cell_type": "code",
   "execution_count": 6,
   "metadata": {},
   "outputs": [],
   "source": [
    "# Add Intercept term\n",
    "X.insert(0, 'Intercept', 1)"
   ]
  },
  {
   "cell_type": "code",
   "execution_count": 7,
   "metadata": {},
   "outputs": [
    {
     "name": "stdout",
     "output_type": "stream",
     "text": [
      "X shape: (97, 2)\n",
      "y shape: (97,)\n"
     ]
    }
   ],
   "source": [
    "# Convert from Pandas DataFrames to NumPy arrays.\n",
    "X = np.array(X)\n",
    "y = np.array(y)\n",
    "y = y.ravel() # work with 1-dim arrays, i.e. (m,) instead of 2-dim, i.e. (m, 1)\n",
    "\n",
    "print('X shape: {}\\ny shape: {}'.format(X.shape, y.shape))"
   ]
  },
  {
   "cell_type": "code",
   "execution_count": 8,
   "metadata": {},
   "outputs": [],
   "source": [
    "# Number of training examples\n",
    "m = X.shape[0]\n",
    "\n",
    "# Number of features\n",
    "n = X.shape[1]"
   ]
  },
  {
   "cell_type": "code",
   "execution_count": 9,
   "metadata": {},
   "outputs": [
    {
     "name": "stdout",
     "output_type": "stream",
     "text": [
      "theta shape: (2,)\n"
     ]
    }
   ],
   "source": [
    "# Initialise fitting parameters (weights)\n",
    "theta = np.zeros(n)\n",
    "\n",
    "print('theta shape: {}'.format(theta.shape))"
   ]
  },
  {
   "cell_type": "code",
   "execution_count": 10,
   "metadata": {},
   "outputs": [
    {
     "data": {
      "text/plain": [
       "32.072733877455676"
      ]
     },
     "execution_count": 10,
     "metadata": {},
     "output_type": "execute_result"
    }
   ],
   "source": [
    "compute_cost(X, y, theta)"
   ]
  },
  {
   "cell_type": "markdown",
   "metadata": {},
   "source": [
    "### Fit the linear regression parameters theta to our data using Gradient Descent"
   ]
  },
  {
   "cell_type": "code",
   "execution_count": 11,
   "metadata": {},
   "outputs": [],
   "source": [
    "def gradient_descent(X, y, theta, learning_rate, num_iters):\n",
    "    m = X.shape[0]\n",
    "    num_params = X.shape[1]\n",
    "    theta_temp = np.zeros(theta.shape)\n",
    "    J_history = np.zeros(num_iters)\n",
    "    \n",
    "    for i in range(num_iters):\n",
    "        errors = np.dot(X, theta) - y # theta.T would return the same shape\n",
    "        \n",
    "        for j in range(num_params):\n",
    "            delta = 1 / m * np.sum(errors * X[:, j])\n",
    "            theta_temp[j] = theta_temp[j] - (learning_rate * delta)\n",
    "            \n",
    "        theta = theta_temp\n",
    "        J_history[i] = compute_cost(X, y, theta)\n",
    "        \n",
    "        if i % 50 == 0:\n",
    "            print(\"At iteration {}, the cost is {}\".format(i, J_history[i]))\n",
    "    return(theta, J_history)"
   ]
  },
  {
   "cell_type": "code",
   "execution_count": 12,
   "metadata": {},
   "outputs": [],
   "source": [
    "learning_rate = 0.01\n",
    "num_iters = 1001"
   ]
  },
  {
   "cell_type": "code",
   "execution_count": 13,
   "metadata": {},
   "outputs": [
    {
     "name": "stdout",
     "output_type": "stream",
     "text": [
      "At iteration 0, the cost is 6.737190464870008\n",
      "At iteration 50, the cost is 5.673965480401505\n",
      "At iteration 100, the cost is 5.476362817272741\n",
      "At iteration 150, the cost is 5.311380876611356\n",
      "At iteration 200, the cost is 5.173634551165022\n",
      "At iteration 250, the cost is 5.05862772012701\n",
      "At iteration 300, the cost is 4.962606493117519\n",
      "At iteration 350, the cost is 4.88243668100122\n",
      "At iteration 400, the cost is 4.815501494116686\n",
      "At iteration 450, the cost is 4.759616128727925\n",
      "At iteration 500, the cost is 4.712956453749759\n",
      "At iteration 550, the cost is 4.673999470039924\n",
      "At iteration 600, the cost is 4.6414735988143185\n",
      "At iteration 650, the cost is 4.614317176570122\n",
      "At iteration 700, the cost is 4.591643801766725\n",
      "At iteration 750, the cost is 4.572713402159867\n",
      "At iteration 800, the cost is 4.5569080784097515\n",
      "At iteration 850, the cost is 4.543711935484407\n",
      "At iteration 900, the cost is 4.532694243543437\n",
      "At iteration 950, the cost is 4.523495378663532\n",
      "At iteration 1000, the cost is 4.515815084502823\n"
     ]
    }
   ],
   "source": [
    "theta_optim, grad = gradient_descent(X, y, theta, learning_rate, num_iters)"
   ]
  },
  {
   "cell_type": "markdown",
   "metadata": {},
   "source": [
    "## Multivariate"
   ]
  },
  {
   "cell_type": "code",
   "execution_count": 14,
   "metadata": {},
   "outputs": [],
   "source": [
    "\"\"\"\n",
    "The file ex1data2.txt contains a training set of housing prices in\n",
    "Portland, Oregon. The first column is the size of the house\n",
    "(in square feet), the second column is the number of bedrooms, and\n",
    "the third column is the price of the house.\n",
    "\"\"\"\n",
    "PATH_TO_DATA = ''.join([os.getcwd(), '/data/ex1data2.txt'])\n",
    "df = pd.read_csv(PATH_TO_DATA, names=['Size', 'Bedrooms', 'Price'])"
   ]
  },
  {
   "cell_type": "code",
   "execution_count": 15,
   "metadata": {},
   "outputs": [],
   "source": [
    "X = df[['Size', 'Bedrooms']]\n",
    "y = df[['Price']]"
   ]
  },
  {
   "cell_type": "code",
   "execution_count": 16,
   "metadata": {},
   "outputs": [
    {
     "data": {
      "image/png": "[encoded data removed]",
      "text/plain": [
       "<matplotlib.figure.Figure at 0x11039b668>"
      ]
     },
     "metadata": {},
     "output_type": "display_data"
    }
   ],
   "source": [
    "fig, ax1 = plt.subplots(figsize=(15, 8))\n",
    "\n",
    "color = 'tab:red'\n",
    "ax1.set_xlabel('Price')\n",
    "ax1.set_ylabel('Size of house (sqft)', color=color)\n",
    "ax1.plot(y, X['Size'], 'ro', color=color)\n",
    "ax1.tick_params(axis='y', labelcolor=color)\n",
    "\n",
    "ax2 = ax1.twinx()\n",
    "\n",
    "color = 'tab:blue'\n",
    "ax2.set_ylabel('Number of bedrooms', color=color)\n",
    "ax2.plot(y, X['Bedrooms'], 'bo', color=color)\n",
    "ax2.tick_params(axis='y', labelcolor=color)\n",
    "\n",
    "fig.tight_layout()"
   ]
  },
  {
   "cell_type": "code",
   "execution_count": 17,
   "metadata": {},
   "outputs": [],
   "source": [
    "# Add Intercept term\n",
    "X.insert(0, 'Intercept', 1)"
   ]
  },
  {
   "cell_type": "code",
   "execution_count": 18,
   "metadata": {},
   "outputs": [
    {
     "name": "stdout",
     "output_type": "stream",
     "text": [
      "X shape: (47, 3)\n",
      "y shape: (47,)\n"
     ]
    }
   ],
   "source": [
    "# Convert from Pandas DataFrames to NumPy arrays.\n",
    "X = np.array(X)\n",
    "y = np.array(y)\n",
    "y = y.ravel()\n",
    "\n",
    "print('X shape: {}\\ny shape: {}'.format(X.shape, y.shape))"
   ]
  },
  {
   "cell_type": "code",
   "execution_count": 19,
   "metadata": {},
   "outputs": [],
   "source": [
    "# Number of training examples\n",
    "m = X.shape[0]\n",
    "\n",
    "# Number of features\n",
    "n = X.shape[1]"
   ]
  },
  {
   "cell_type": "code",
   "execution_count": 20,
   "metadata": {},
   "outputs": [],
   "source": [
    "# Initialise fitting parameters\n",
    "theta = np.zeros(n)"
   ]
  },
  {
   "cell_type": "code",
   "execution_count": 21,
   "metadata": {},
   "outputs": [
    {
     "data": {
      "text/plain": [
       "65591548106.45744"
      ]
     },
     "execution_count": 21,
     "metadata": {},
     "output_type": "execute_result"
    }
   ],
   "source": [
    "compute_cost(X, y, theta)"
   ]
  },
  {
   "cell_type": "code",
   "execution_count": 22,
   "metadata": {},
   "outputs": [],
   "source": [
    "# The size of the house and the number of bedrooms have different scales.\n",
    "# When features differ by orders of magnitude, first performing feature\n",
    "# scaling can make Gradient Descent converge more quickly.\n",
    "def feature_normalise(X):\n",
    "    mu = X.mean()\n",
    "    std = X.std()\n",
    "    X = (X - mu) / std\n",
    "    return(X)"
   ]
  },
  {
   "cell_type": "code",
   "execution_count": 23,
   "metadata": {},
   "outputs": [],
   "source": [
    "df_normalised = feature_normalise(df)\n",
    "# df_normalised.head()"
   ]
  },
  {
   "cell_type": "code",
   "execution_count": 24,
   "metadata": {},
   "outputs": [],
   "source": [
    "X = df_normalised[['Size', 'Bedrooms']]\n",
    "y = df_normalised[['Price']]"
   ]
  },
  {
   "cell_type": "code",
   "execution_count": 25,
   "metadata": {},
   "outputs": [
    {
     "data": {
      "image/png": "[encoded data removed]",
      "text/plain": [
       "<matplotlib.figure.Figure at 0x110a0e6a0>"
      ]
     },
     "metadata": {},
     "output_type": "display_data"
    }
   ],
   "source": [
    "# Visualise data again to make sure that we just scaled it.\n",
    "\n",
    "fig, ax1 = plt.subplots(figsize=(15, 8))\n",
    "\n",
    "color = 'tab:red'\n",
    "ax1.set_xlabel('Price')\n",
    "ax1.set_ylabel('Size of house (sqft)', color=color)\n",
    "ax1.plot(y, X['Size'], 'ro', color=color)\n",
    "ax1.tick_params(axis='y', labelcolor=color)\n",
    "\n",
    "ax2 = ax1.twinx()\n",
    "\n",
    "color = 'tab:blue'\n",
    "ax2.set_ylabel('Number of bedrooms', color=color)\n",
    "ax2.plot(y, X['Bedrooms'], 'bo', color=color)\n",
    "ax2.tick_params(axis='y', labelcolor=color)\n",
    "\n",
    "fig.tight_layout()"
   ]
  },
  {
   "cell_type": "code",
   "execution_count": 26,
   "metadata": {},
   "outputs": [],
   "source": [
    "# Add Intercept term\n",
    "X.insert(0, 'Intercept', 1)"
   ]
  },
  {
   "cell_type": "code",
   "execution_count": 27,
   "metadata": {},
   "outputs": [
    {
     "name": "stdout",
     "output_type": "stream",
     "text": [
      "X shape: (47, 3)\n",
      "y shape: (47,)\n"
     ]
    }
   ],
   "source": [
    "# Convert from Pandas DataFrames to NumPy arrays.\n",
    "X = np.array(X)\n",
    "y = np.array(y)\n",
    "y = y.ravel()\n",
    "\n",
    "print('X shape: {}\\ny shape: {}'.format(X.shape, y.shape))"
   ]
  },
  {
   "cell_type": "code",
   "execution_count": 28,
   "metadata": {},
   "outputs": [],
   "source": [
    "# Number of training examples\n",
    "m = X.shape[0]\n",
    "\n",
    "# Number of features\n",
    "n = X.shape[1]"
   ]
  },
  {
   "cell_type": "code",
   "execution_count": 29,
   "metadata": {},
   "outputs": [],
   "source": [
    "# Initialise fitting parameters\n",
    "theta = np.zeros(n)"
   ]
  },
  {
   "cell_type": "code",
   "execution_count": 30,
   "metadata": {},
   "outputs": [
    {
     "data": {
      "text/plain": [
       "0.4893617021276596"
      ]
     },
     "execution_count": 30,
     "metadata": {},
     "output_type": "execute_result"
    }
   ],
   "source": [
    "compute_cost(X, y, theta)"
   ]
  },
  {
   "cell_type": "code",
   "execution_count": 31,
   "metadata": {},
   "outputs": [],
   "source": [
    "learning_rate = 0.01\n",
    "num_iters = 501"
   ]
  },
  {
   "cell_type": "code",
   "execution_count": 32,
   "metadata": {},
   "outputs": [
    {
     "name": "stdout",
     "output_type": "stream",
     "text": [
      "At iteration 0, the cost is 0.4805491041076719\n",
      "At iteration 50, the cost is 0.2466270514254147\n",
      "At iteration 100, the cost is 0.18209443801333894\n",
      "At iteration 150, the cost is 0.15894496577330428\n",
      "At iteration 200, the cost is 0.1479382495738683\n",
      "At iteration 250, the cost is 0.14165454023209023\n",
      "At iteration 300, the cost is 0.1377591345050687\n",
      "At iteration 350, the cost is 0.13526905125531047\n",
      "At iteration 400, the cost is 0.1336603777249612\n",
      "At iteration 450, the cost is 0.1326174317377714\n",
      "At iteration 500, the cost is 0.1319404652949001\n"
     ]
    }
   ],
   "source": [
    "theta_optim, grad = gradient_descent(X, y, theta, learning_rate, num_iters)"
   ]
  },
  {
   "cell_type": "code",
   "execution_count": 33,
   "metadata": {},
   "outputs": [
    {
     "data": {
      "image/png": "[encoded data removed]",
      "text/plain": [
       "<matplotlib.figure.Figure at 0x110d23048>"
      ]
     },
     "metadata": {},
     "output_type": "display_data"
    }
   ],
   "source": [
    "fig, ax = plt.subplots(figsize=(15, 8))\n",
    "ax.plot(np.arange(num_iters), grad, 'r')\n",
    "ax.set_title('Error vs. Training Epoch')\n",
    "ax.set_xlabel('Iterations')\n",
    "ax.set_ylabel('Cost')\n",
    "ax.grid()"
   ]
  },
  {
   "cell_type": "markdown",
   "metadata": {},
   "source": [
    "### Simple example to visualise the cost function"
   ]
  },
  {
   "cell_type": "code",
   "execution_count": 34,
   "metadata": {},
   "outputs": [],
   "source": [
    "def h(theta, X):\n",
    "    return(theta * X)"
   ]
  },
  {
   "cell_type": "code",
   "execution_count": 35,
   "metadata": {},
   "outputs": [],
   "source": [
    "def J(X, y, theta):\n",
    "    predictions = theta * X\n",
    "    squared_error = np.power((y - predictions), 2)\n",
    "    J = 1 / (2 * m) * np.sum(squared_error)\n",
    "    return(J)"
   ]
  },
  {
   "cell_type": "code",
   "execution_count": 36,
   "metadata": {},
   "outputs": [],
   "source": [
    "X = np.linspace(1, 3, 3)\n",
    "X = X.reshape(X.shape[0], 1)\n",
    "y = X\n",
    "theta = 1"
   ]
  },
  {
   "cell_type": "code",
   "execution_count": 37,
   "metadata": {},
   "outputs": [
    {
     "data": {
      "text/plain": [
       "<matplotlib.axes._subplots.AxesSubplot at 0x110d57898>"
      ]
     },
     "execution_count": 37,
     "metadata": {},
     "output_type": "execute_result"
    },
    {
     "data": {
      "image/png": "[encoded data removed]",
      "text/plain": [
       "<matplotlib.figure.Figure at 0x110d29048>"
      ]
     },
     "metadata": {},
     "output_type": "display_data"
    }
   ],
   "source": [
    "df = pd.DataFrame(data=np.c_[X, h(theta, X)], columns=['x', 'h'])\n",
    "df.plot(x='x', y='h', grid=True)"
   ]
  },
  {
   "cell_type": "code",
   "execution_count": 38,
   "metadata": {},
   "outputs": [
    {
     "data": {
      "text/plain": [
       "<matplotlib.axes._subplots.AxesSubplot at 0x110d43940>"
      ]
     },
     "execution_count": 38,
     "metadata": {},
     "output_type": "execute_result"
    },
    {
     "data": {
      "image/png": "[encoded data removed]",
      "text/plain": [
       "<matplotlib.figure.Figure at 0x1111c6898>"
      ]
     },
     "metadata": {},
     "output_type": "display_data"
    }
   ],
   "source": [
    "cost = pd.DataFrame([(theta, J(X, y, theta)) for theta in range(-5, 8)], columns=['theta', 'J'])\n",
    "cost.plot(x='theta', y='J', grid=True)"
   ]
  }
 ],
 "metadata": {
  "kernelspec": {
   "display_name": "Python 3",
   "language": "python",
   "name": "python3"
  },
  "language_info": {
   "codemirror_mode": {
    "name": "ipython",
    "version": 3
   },
   "file_extension": ".py",
   "mimetype": "text/x-python",
   "name": "python",
   "nbconvert_exporter": "python",
   "pygments_lexer": "ipython3",
   "version": "3.6.4"
  }
 },
 "nbformat": 4,
 "nbformat_minor": 2
}
